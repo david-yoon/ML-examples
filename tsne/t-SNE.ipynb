{
 "cells": [
  {
   "cell_type": "markdown",
   "metadata": {},
   "source": [
    "reference pages:\n",
    "- https://lumiamitie.github.io/r/python/tsne-for-r-py/\n",
    "- https://rfriend.tistory.com/414\n",
    "- https://github.com/DmitryUlyanov/Multicore-TSNE"
   ]
  },
  {
   "cell_type": "code",
   "execution_count": null,
   "metadata": {},
   "outputs": [],
   "source": []
  },
  {
   "cell_type": "code",
   "execution_count": 1,
   "metadata": {},
   "outputs": [],
   "source": [
    "import time\n",
    "import pandas as pd\n",
    "import numpy as np\n",
    "from sklearn.manifold import TSNE\n",
    "\n",
    "from MulticoreTSNE import MulticoreTSNE as multiTSNE\n",
    "\n",
    "import seaborn as sns\n",
    "\n",
    "%matplotlib inline\n",
    "import matplotlib.pyplot as plt"
   ]
  },
  {
   "cell_type": "code",
   "execution_count": null,
   "metadata": {},
   "outputs": [],
   "source": []
  },
  {
   "cell_type": "code",
   "execution_count": null,
   "metadata": {},
   "outputs": [],
   "source": []
  },
  {
   "cell_type": "markdown",
   "metadata": {},
   "source": [
    "## 01. cont (generator) vs dis (generator)"
   ]
  },
  {
   "cell_type": "code",
   "execution_count": 2,
   "metadata": {},
   "outputs": [
    {
     "name": "stdout",
     "output_type": "stream",
     "text": [
      "dim(data_merge): (20000, 300)\n"
     ]
    }
   ],
   "source": [
    "# data load\n",
    "\n",
    "data_1 = np.load('../data/cont4paper.npy')\n",
    "data_2 = np.load('../data/gen17dis18.npy')\n",
    "\n",
    "data_merge = np.concatenate( (data_1, data_2), axis=0 )\n",
    "print('dim(data_merge):', data_merge.shape)"
   ]
  },
  {
   "cell_type": "code",
   "execution_count": null,
   "metadata": {},
   "outputs": [],
   "source": [
    "start = time.time()\n",
    "\n",
    "# t-SNE\n",
    "tsne_result = TSNE(learning_rate=200, init='pca').fit_transform(data_merge)\n",
    "\n",
    "# multicore t-SNE\n",
    "# tsne_result = multiTSNE(learning_rate=200, n_jobs=8).fit_transform(data_merge)\n",
    "\n",
    "print(\"time (min) :\", (time.time() - start) / 60.0 ) \n",
    "\n",
    "# data plot\n",
    "\n",
    "df_tnse_result = pd.DataFrame(tsne_result,\n",
    "                              columns=['V1', 'V2'])\n",
    "\n",
    "df_tnse_result[\"label\"] = 'cont_gen_p30'\n",
    "df_tnse_result[\"label\"][len(data_1):] = 'dis_gen_p30'\n",
    "\n",
    "sns.scatterplot(x='V1', \n",
    "                y='V2', \n",
    "                hue='label', # different colors by group\n",
    "                style='label', # different shapes by group\n",
    "                s=20, # marker size\n",
    "                data=df_tnse_result)\n",
    "plt.show()"
   ]
  },
  {
   "cell_type": "code",
   "execution_count": null,
   "metadata": {},
   "outputs": [],
   "source": []
  },
  {
   "cell_type": "code",
   "execution_count": null,
   "metadata": {},
   "outputs": [],
   "source": []
  },
  {
   "cell_type": "code",
   "execution_count": null,
   "metadata": {},
   "outputs": [],
   "source": [
    "start = time.time()\n",
    "\n",
    "# t-SNE\n",
    "tsne_result = TSNE(learning_rate=200, init='pca', perplexity=50).fit_transform(data_merge)\n",
    "\n",
    "# multicore t-SNE\n",
    "# tsne_result = multiTSNE(learning_rate=200, n_jobs=8).fit_transform(data_merge)\n",
    "\n",
    "print(\"time (min) :\", (time.time() - start) / 60.0 ) \n",
    "\n",
    "# data plot\n",
    "\n",
    "df_tnse_result = pd.DataFrame(tsne_result,\n",
    "                              columns=['V1', 'V2'])\n",
    "\n",
    "df_tnse_result[\"label\"] = 'cont_gen_p50'\n",
    "df_tnse_result[\"label\"][len(data_1):] = 'dis_gen_p50'\n",
    "\n",
    "sns.scatterplot(x='V1', \n",
    "                y='V2', \n",
    "                hue='label', # different colors by group\n",
    "                style='label', # different shapes by group\n",
    "                s=20, # marker size\n",
    "                data=df_tnse_result)\n",
    "plt.show()"
   ]
  },
  {
   "cell_type": "code",
   "execution_count": null,
   "metadata": {},
   "outputs": [],
   "source": []
  },
  {
   "cell_type": "code",
   "execution_count": null,
   "metadata": {},
   "outputs": [],
   "source": []
  },
  {
   "cell_type": "code",
   "execution_count": null,
   "metadata": {},
   "outputs": [],
   "source": [
    "start = time.time()\n",
    "\n",
    "# t-SNE\n",
    "tsne_result = TSNE(learning_rate=200, init='pca', perplexity=10).fit_transform(data_merge)\n",
    "\n",
    "# multicore t-SNE\n",
    "# tsne_result = multiTSNE(learning_rate=200, n_jobs=8).fit_transform(data_merge)\n",
    "\n",
    "print(\"time (min) :\", (time.time() - start) / 60.0 ) \n",
    "\n",
    "# data plot\n",
    "\n",
    "df_tnse_result = pd.DataFrame(tsne_result,\n",
    "                              columns=['V1', 'V2'])\n",
    "\n",
    "df_tnse_result[\"label\"] = 'cont_gen_p10'\n",
    "df_tnse_result[\"label\"][len(data_1):] = 'dis_gen_p10'\n",
    "\n",
    "sns.scatterplot(x='V1', \n",
    "                y='V2', \n",
    "                hue='label', # different colors by group\n",
    "                style='label', # different shapes by group\n",
    "                s=20, # marker size\n",
    "                data=df_tnse_result)\n",
    "plt.show()"
   ]
  },
  {
   "cell_type": "code",
   "execution_count": null,
   "metadata": {},
   "outputs": [],
   "source": []
  },
  {
   "cell_type": "code",
   "execution_count": null,
   "metadata": {},
   "outputs": [],
   "source": []
  },
  {
   "cell_type": "code",
   "execution_count": null,
   "metadata": {},
   "outputs": [],
   "source": []
  },
  {
   "cell_type": "code",
   "execution_count": null,
   "metadata": {},
   "outputs": [],
   "source": []
  },
  {
   "cell_type": "markdown",
   "metadata": {},
   "source": [
    "## 02. cont (encoder) vs dis (encoder)"
   ]
  },
  {
   "cell_type": "code",
   "execution_count": null,
   "metadata": {},
   "outputs": [],
   "source": [
    "# data load\n",
    "\n",
    "data_1 = np.load('../data/cont4paper_train_real.npy')\n",
    "data_2 = np.load('../data/gen17dis18_train_real.npy')\n",
    "\n",
    "data_merge = np.concatenate( (data_1, data_2), axis=0 )\n",
    "print('dim(data_merge):', data_merge.shape)"
   ]
  },
  {
   "cell_type": "code",
   "execution_count": null,
   "metadata": {},
   "outputs": [],
   "source": [
    "start = time.time()\n",
    "\n",
    "# t-SNE\n",
    "tsne_result = TSNE(learning_rate=200, init='pca').fit_transform(data_merge)\n",
    "\n",
    "# multicore t-SNE\n",
    "# tsne_result = multiTSNE(learning_rate=200, n_jobs=8).fit_transform(data_merge)\n",
    "\n",
    "print(\"time (min) :\", (time.time() - start) / 60.0 ) \n",
    "\n",
    "# data plot\n",
    "\n",
    "df_tnse_result = pd.DataFrame(tsne_result,\n",
    "                              columns=['V1', 'V2'])\n",
    "\n",
    "df_tnse_result[\"label\"] = 'cont_enc_p30'\n",
    "df_tnse_result[\"label\"][len(data_1):] = 'dis_enc_p30'\n",
    "\n",
    "sns.scatterplot(x='V1', \n",
    "                y='V2', \n",
    "                hue='label', # different colors by group\n",
    "                style='label', # different shapes by group\n",
    "                s=20, # marker size\n",
    "                data=df_tnse_result)\n",
    "plt.show()"
   ]
  },
  {
   "cell_type": "code",
   "execution_count": null,
   "metadata": {},
   "outputs": [],
   "source": []
  },
  {
   "cell_type": "code",
   "execution_count": null,
   "metadata": {},
   "outputs": [],
   "source": []
  },
  {
   "cell_type": "code",
   "execution_count": null,
   "metadata": {},
   "outputs": [],
   "source": [
    "start = time.time()\n",
    "\n",
    "# t-SNE\n",
    "tsne_result = TSNE(learning_rate=200, init='pca', perplexity=50).fit_transform(data_merge)\n",
    "\n",
    "# multicore t-SNE\n",
    "# tsne_result = multiTSNE(learning_rate=200, n_jobs=8).fit_transform(data_merge)\n",
    "\n",
    "print(\"time (min) :\", (time.time() - start) / 60.0 ) \n",
    "\n",
    "# data plot\n",
    "\n",
    "df_tnse_result = pd.DataFrame(tsne_result,\n",
    "                              columns=['V1', 'V2'])\n",
    "\n",
    "df_tnse_result[\"label\"] = 'cont_enc_p50'\n",
    "df_tnse_result[\"label\"][len(data_1):] = 'dis_enc_p50'\n",
    "\n",
    "sns.scatterplot(x='V1', \n",
    "                y='V2', \n",
    "                hue='label', # different colors by group\n",
    "                style='label', # different shapes by group\n",
    "                s=20, # marker size\n",
    "                data=df_tnse_result)\n",
    "plt.show()"
   ]
  },
  {
   "cell_type": "code",
   "execution_count": null,
   "metadata": {},
   "outputs": [],
   "source": []
  },
  {
   "cell_type": "code",
   "execution_count": null,
   "metadata": {},
   "outputs": [],
   "source": []
  },
  {
   "cell_type": "code",
   "execution_count": null,
   "metadata": {},
   "outputs": [],
   "source": [
    "start = time.time()\n",
    "\n",
    "# t-SNE\n",
    "tsne_result = TSNE(learning_rate=200, init='pca', perplexity=10).fit_transform(data_merge)\n",
    "\n",
    "# multicore t-SNE\n",
    "# tsne_result = multiTSNE(learning_rate=200, n_jobs=8).fit_transform(data_merge)\n",
    "\n",
    "print(\"time (min) :\", (time.time() - start) / 60.0 ) \n",
    "\n",
    "# data plot\n",
    "\n",
    "df_tnse_result = pd.DataFrame(tsne_result,\n",
    "                              columns=['V1', 'V2'])\n",
    "\n",
    "df_tnse_result[\"label\"] = 'cont_enc_p10'\n",
    "df_tnse_result[\"label\"][len(data_1):] = 'dis_enc_p10'\n",
    "\n",
    "sns.scatterplot(x='V1', \n",
    "                y='V2', \n",
    "                hue='label', # different colors by group\n",
    "                style='label', # different shapes by group\n",
    "                s=20, # marker size\n",
    "                data=df_tnse_result)\n",
    "plt.show()"
   ]
  },
  {
   "cell_type": "code",
   "execution_count": null,
   "metadata": {},
   "outputs": [],
   "source": []
  },
  {
   "cell_type": "code",
   "execution_count": null,
   "metadata": {},
   "outputs": [],
   "source": []
  },
  {
   "cell_type": "code",
   "execution_count": null,
   "metadata": {},
   "outputs": [],
   "source": []
  },
  {
   "cell_type": "code",
   "execution_count": null,
   "metadata": {},
   "outputs": [],
   "source": []
  },
  {
   "cell_type": "code",
   "execution_count": null,
   "metadata": {},
   "outputs": [],
   "source": []
  },
  {
   "cell_type": "markdown",
   "metadata": {},
   "source": [
    "## 03. cont (encoder), dis (encoder), cont (generator), dis (generator)"
   ]
  },
  {
   "cell_type": "code",
   "execution_count": null,
   "metadata": {},
   "outputs": [],
   "source": [
    "# data load\n",
    "\n",
    "data_1 = np.load('../data/cont4paper.npy')\n",
    "data_2 = np.load('../data/gen17dis18.npy')\n",
    "data_3 = np.load('../data/cont4paper_train_real.npy')\n",
    "data_4 = np.load('../data/gen17dis18_train_real.npy')\n",
    "\n",
    "data_merge = np.concatenate( (data_1, data_2, data_3, data_4), axis=0 )\n",
    "print('dim(data_merge):', data_merge.shape)"
   ]
  },
  {
   "cell_type": "code",
   "execution_count": null,
   "metadata": {},
   "outputs": [],
   "source": [
    "start = time.time()\n",
    "\n",
    "# t-SNE\n",
    "tsne_result = TSNE(learning_rate=200, init='pca').fit_transform(data_merge)\n",
    "\n",
    "# multicore t-SNE\n",
    "# tsne_result = multiTSNE(learning_rate=200, n_jobs=8).fit_transform(data_merge)\n",
    "\n",
    "print(\"time (min) :\", (time.time() - start) / 60.0 ) \n",
    "\n",
    "# data plot\n",
    "\n",
    "df_tnse_result = pd.DataFrame(tsne_result,\n",
    "                              columns=['V1', 'V2'])\n",
    "\n",
    "df_tnse_result[\"label\"] = 'cont_gen_p30'\n",
    "df_tnse_result[\"label\"][len(data_1):] = 'dis_gen_p30'\n",
    "df_tnse_result[\"label\"][len(data_1)+len(data_2):] = 'con_enc_p30'\n",
    "df_tnse_result[\"label\"][len(data_1)+len(data_2)+len(data_3):] = 'dis_enc_p30'\n",
    "\n",
    "sns.scatterplot(x='V1', \n",
    "                y='V2', \n",
    "                hue='label', # different colors by group\n",
    "                style='label', # different shapes by group\n",
    "                s=20, # marker size\n",
    "                data=df_tnse_result)\n",
    "plt.show()"
   ]
  },
  {
   "cell_type": "code",
   "execution_count": null,
   "metadata": {},
   "outputs": [],
   "source": []
  },
  {
   "cell_type": "code",
   "execution_count": null,
   "metadata": {},
   "outputs": [],
   "source": []
  },
  {
   "cell_type": "code",
   "execution_count": null,
   "metadata": {},
   "outputs": [],
   "source": [
    "start = time.time()\n",
    "\n",
    "# t-SNE\n",
    "tsne_result = TSNE(learning_rate=200, init='pca', perplexity=50).fit_transform(data_merge)\n",
    "\n",
    "# multicore t-SNE\n",
    "# tsne_result = multiTSNE(learning_rate=200, n_jobs=8).fit_transform(data_merge)\n",
    "\n",
    "print(\"time (min) :\", (time.time() - start) / 60.0 ) \n",
    "\n",
    "\n",
    "# data plot\n",
    "\n",
    "df_tnse_result = pd.DataFrame(tsne_result,\n",
    "                              columns=['V1', 'V2'])\n",
    "\n",
    "df_tnse_result[\"label\"] = 'cont_gen_p50'\n",
    "df_tnse_result[\"label\"][len(data_1):] = 'dis_gen_p50'\n",
    "df_tnse_result[\"label\"][len(data_1)+len(data_2):] = 'con_enc_p50'\n",
    "df_tnse_result[\"label\"][len(data_1)+len(data_2)+len(data_3):] = 'dis_enc_p50'\n",
    "\n",
    "sns.scatterplot(x='V1', \n",
    "                y='V2', \n",
    "                hue='label', # different colors by group\n",
    "                style='label', # different shapes by group\n",
    "                s=20, # marker size\n",
    "                data=df_tnse_result)\n",
    "plt.show()"
   ]
  },
  {
   "cell_type": "code",
   "execution_count": null,
   "metadata": {},
   "outputs": [],
   "source": []
  },
  {
   "cell_type": "code",
   "execution_count": null,
   "metadata": {},
   "outputs": [],
   "source": []
  },
  {
   "cell_type": "code",
   "execution_count": null,
   "metadata": {},
   "outputs": [],
   "source": [
    "start = time.time()\n",
    "\n",
    "# t-SNE\n",
    "tsne_result = TSNE(learning_rate=200, init='pca', perplexity=10).fit_transform(data_merge)\n",
    "\n",
    "# multicore t-SNE\n",
    "# tsne_result = multiTSNE(learning_rate=200, n_jobs=8).fit_transform(data_merge)\n",
    "\n",
    "print(\"time (min) :\", (time.time() - start) / 60.0 ) \n",
    "\n",
    "\n",
    "# data plot\n",
    "\n",
    "df_tnse_result = pd.DataFrame(tsne_result,\n",
    "                              columns=['V1', 'V2'])\n",
    "\n",
    "df_tnse_result[\"label\"] = 'cont_gen_p10'\n",
    "df_tnse_result[\"label\"][len(data_1):] = 'dis_gen_p10'\n",
    "df_tnse_result[\"label\"][len(data_1)+len(data_2):] = 'con_enc_p10'\n",
    "df_tnse_result[\"label\"][len(data_1)+len(data_2)+len(data_3):] = 'dis_enc_p10'\n",
    "\n",
    "sns.scatterplot(x='V1', \n",
    "                y='V2', \n",
    "                hue='label', # different colors by group\n",
    "                style='label', # different shapes by group\n",
    "                s=20, # marker size\n",
    "                data=df_tnse_result)\n",
    "plt.show()"
   ]
  },
  {
   "cell_type": "code",
   "execution_count": null,
   "metadata": {},
   "outputs": [],
   "source": []
  },
  {
   "cell_type": "code",
   "execution_count": null,
   "metadata": {},
   "outputs": [],
   "source": []
  },
  {
   "cell_type": "code",
   "execution_count": null,
   "metadata": {},
   "outputs": [],
   "source": []
  },
  {
   "cell_type": "code",
   "execution_count": null,
   "metadata": {},
   "outputs": [],
   "source": []
  },
  {
   "cell_type": "markdown",
   "metadata": {},
   "source": [
    "## example"
   ]
  },
  {
   "cell_type": "code",
   "execution_count": 69,
   "metadata": {},
   "outputs": [],
   "source": [
    "# iris 데이터\n",
    "iris = pd.read_csv('https://raw.githubusercontent.com/mwaskom/seaborn-data/master/iris.csv')\n",
    "\n",
    "# 결과물 재현을 위해 seed를 설정\n",
    "np.random.seed(1)\n",
    "\n",
    "# iris 데이터를 matrix로 변환시킨 후 t-SNE 적용\n",
    "iris_matrix = iris.iloc[:, 0:4].values\n",
    "iris_tsne_result = TSNE(learning_rate=300, init='pca').fit_transform(iris_matrix)\n",
    "\n",
    "# 맵핑된 결과물에 원래의 레이블을 달아보자\n",
    "df_iris_tsne_result = (\n",
    "  pd.DataFrame(iris_tsne_result, columns=['V1', 'V2'])\n",
    "    .assign(species = iris['species'])\n",
    ")"
   ]
  },
  {
   "cell_type": "code",
   "execution_count": 70,
   "metadata": {},
   "outputs": [
    {
     "data": {
      "image/png": "[encoded data removed]",
      "text/plain": [
       "<Figure size 432x288 with 1 Axes>"
      ]
     },
     "metadata": {
      "needs_background": "light"
     },
     "output_type": "display_data"
    }
   ],
   "source": [
    "sns.scatterplot(x='V1', \n",
    "                y='V2', \n",
    "                hue='species', # different colors by group\n",
    "                style='species', # different shapes by group\n",
    "                s=20, # marker size\n",
    "                data=df_iris_tsne_result)\n",
    "plt.show()"
   ]
  },
  {
   "cell_type": "code",
   "execution_count": null,
   "metadata": {},
   "outputs": [],
   "source": []
  },
  {
   "cell_type": "code",
   "execution_count": null,
   "metadata": {},
   "outputs": [],
   "source": []
  },
  {
   "cell_type": "code",
   "execution_count": null,
   "metadata": {},
   "outputs": [],
   "source": []
  },
  {
   "cell_type": "code",
   "execution_count": null,
   "metadata": {},
   "outputs": [],
   "source": []
  },
  {
   "cell_type": "code",
   "execution_count": null,
   "metadata": {},
   "outputs": [],
   "source": []
  },
  {
   "cell_type": "code",
   "execution_count": null,
   "metadata": {},
   "outputs": [],
   "source": []
  },
  {
   "cell_type": "code",
   "execution_count": null,
   "metadata": {},
   "outputs": [],
   "source": []
  }
 ],
 "metadata": {
  "kernelspec": {
   "display_name": "Python [conda env:p37]",
   "language": "python",
   "name": "conda-env-p37-py"
  },
  "language_info": {
   "codemirror_mode": {
    "name": "ipython",
    "version": 3
   },
   "file_extension": ".py",
   "mimetype": "text/x-python",
   "name": "python",
   "nbconvert_exporter": "python",
   "pygments_lexer": "ipython3",
   "version": "3.7.7"
  }
 },
 "nbformat": 4,
 "nbformat_minor": 4
}
